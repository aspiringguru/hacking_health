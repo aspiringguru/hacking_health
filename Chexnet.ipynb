{
 "cells": [
  {
   "cell_type": "markdown",
   "metadata": {},
   "source": [
    "https://stanfordmlgroup.github.io/projects/chexnet/  \n",
    "https://arxiv.org/abs/1711.05225  \n",
    "https://arxiv.org/pdf/1711.05225.pdf  (Andrew Y. Ng etc)\n",
    "\n",
    "https://arxiv.org/abs/1711.08760 (improved)\n",
    "https://arxiv.org/pdf/1711.08760.pdf  \n",
    "https://dzone.com/articles/detecting-diseases-in-chest-x-ray-using-deep-learn  \n",
    "https://nihcc.app.box.com/v/ChestXray-NIHCC/  \n",
    "https://github.com/arnoweng/CheXNet.git  forked to aspiringguru    \n"
   ]
  },
  {
   "cell_type": "code",
   "execution_count": null,
   "metadata": {},
   "outputs": [],
   "source": []
  }
 ],
 "metadata": {
  "kernelspec": {
   "display_name": "Python 3",
   "language": "python",
   "name": "python3"
  },
  "language_info": {
   "codemirror_mode": {
    "name": "ipython",
    "version": 3
   },
   "file_extension": ".py",
   "mimetype": "text/x-python",
   "name": "python",
   "nbconvert_exporter": "python",
   "pygments_lexer": "ipython3",
   "version": "3.6.4"
  }
 },
 "nbformat": 4,
 "nbformat_minor": 2
}
